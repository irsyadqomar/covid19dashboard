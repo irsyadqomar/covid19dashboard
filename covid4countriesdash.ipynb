{
 "cells": [
  {
   "cell_type": "markdown",
   "metadata": {},
   "source": [
    "# Covid-19 New Cases Dashboard: Comparison between Four UK Countries\n",
    "\n",
    "##### In the following chart we can see and compare the daily growth of new Covid-19 cases among four UK Countries (England, Scotland, Wales, and Northern Ireland). The chart has been made using data published by [Public Health England](https://www.gov.uk/government/organisations/public-health-england).\n",
    "\n",
    "\n"
   ]
  },
  {
   "cell_type": "code",
   "execution_count": 1,
   "metadata": {},
   "outputs": [],
   "source": [
    "import ipywidgets as wdg\n",
    "import pandas as pd\n",
    "import numpy as np\n",
    "import matplotlib.pyplot as plt\n",
    "import json\n",
    "from uk_covid19 import Cov19API"
   ]
  },
  {
   "cell_type": "code",
   "execution_count": 2,
   "metadata": {},
   "outputs": [],
   "source": [
    "%matplotlib inline\n",
    "# make figures larger\n",
    "plt.rcParams['figure.dpi'] = 100"
   ]
  },
  {
   "cell_type": "code",
   "execution_count": 3,
   "metadata": {},
   "outputs": [],
   "source": [
    "# Load JSON files and store the raw data in some variable. Edit as appropriate\n",
    "\n",
    "with open(\"newCases.json\", \"rt\") as INFILE:\n",
    "    newCases=json.load(INFILE)\n"
   ]
  },
  {
   "cell_type": "code",
   "execution_count": 4,
   "metadata": {},
   "outputs": [],
   "source": [
    "def wrangle_data(rawdata):\n",
    "    \"\"\" Parameters: rawdata - data from json file or API call. Returns a dataframe.\n",
    "    Edit to include the code that wrangles the data, creates the dataframe and fills it in. \"\"\"\n",
    "    datalist=rawdata['data']\n",
    "    \n",
    "    dates=[dictionary['date'] for dictionary in datalist ]\n",
    "    dates.sort()  \n",
    "    def  parse_date(datestring):\n",
    "        \"\"\" Convert a date string into a pandas datetime object \"\"\"\n",
    "        return pd.to_datetime(datestring, format=\"%Y-%m-%d\")\n",
    "    startdate=parse_date(dates[0])\n",
    "    enddate=parse_date(dates[-1])\n",
    "    \n",
    "    index=pd.date_range(startdate, enddate, freq='D')\n",
    "    \n",
    "    Englist = [England for England in datalist if England['areaName'] == 'England']\n",
    "    Scotlist = [Scotland for Scotland in datalist if Scotland['areaName'] == 'Scotland']\n",
    "    Waleslist = [Wales for Wales in datalist if Wales['areaName'] == 'Wales']\n",
    "    NorIrelist = [NorIre for NorIre in datalist if NorIre['areaName'] == 'Northern Ireland']\n",
    "    \n",
    "    UKdf=pd.DataFrame(index=index, columns=['England', 'Scotland', 'Wales', 'Northern Ireland'])\n",
    "    \n",
    "    for entry in Englist:\n",
    "        date=entry['date']\n",
    "        UKdf.loc[date, 'England']=entry['newCases']\n",
    "    for entry in Scotlist:\n",
    "        date=entry['date']\n",
    "        UKdf.loc[date, 'Scotland']=entry['newCases']\n",
    "    for entry in Waleslist:\n",
    "        date=entry['date']\n",
    "        UKdf.loc[date, 'Wales']=entry['newCases']\n",
    "    for entry in NorIrelist:\n",
    "        date=entry['date']\n",
    "        UKdf.loc[date, 'Northern Ireland']=entry['newCases']\n",
    "    \n",
    "\n",
    "    UKdf.fillna(0.0, inplace=True)\n",
    "    return UKdf\n",
    "\n",
    "UKdf=wrangle_data(newCases)\n"
   ]
  },
  {
   "cell_type": "code",
   "execution_count": 5,
   "metadata": {},
   "outputs": [],
   "source": [
    "def access_api():\n",
    "    \"\"\" Accesses the PHE API. Returns raw data in the same format as data loaded from the \"canned\" JSON file. \"\"\"\n",
    "    filters = [\n",
    "        'areaType=nation'\n",
    "    ]\n",
    "    structure = {\n",
    "        \"areaName\": \"areaName\",\n",
    "        \"date\": \"date\",\n",
    "        \"newCases\": \"newCasesByPublishDate\"\n",
    "    }\n",
    "    api = Cov19API(filters=filters, structure=structure)\n",
    "    newCases=api.get_json()\n",
    "    with open(\"newCases.json\", \"wt\") as OUTF:\n",
    "        json.dump(newCases, OUTF)\n",
    "    with open(\"newCases.json\", \"rt\") as INFILE:\n",
    "        newCases=json.load(INFILE)\n",
    "    return newCases\n"
   ]
  },
  {
   "cell_type": "code",
   "execution_count": 6,
   "metadata": {},
   "outputs": [
    {
     "data": {
      "application/vnd.jupyter.widget-view+json": {
       "model_id": "0b006491b6ab45ceba5572407002164a",
       "version_major": 2,
       "version_minor": 0
      },
      "text/plain": [
       "Button(button_style='info', description='Refresh data', icon='download', style=ButtonStyle(), tooltip='Click t…"
      ]
     },
     "metadata": {},
     "output_type": "display_data"
    },
    {
     "name": "stdout",
     "output_type": "stream",
     "text": [
      "Success!\r"
     ]
    }
   ],
   "source": [
    "def api_button_callback(button):\n",
    "    \"\"\" Button callback - it must take the button as its parameter (unused in this case).\n",
    "    Accesses API, wrangles data, updates global variable df used for plotting. \"\"\"\n",
    "    try:\n",
    "        newCases=access_api()\n",
    "        global UKdf\n",
    "        UKdf=wrangle_data(newCases)\n",
    "        refresh_graph()\n",
    "        apibutton.button_style='success'\n",
    "        apibutton.icon=\"check\"\n",
    "        print('Success!', end = '\\r', flush = True)\n",
    "    except:\n",
    "        apibutton.button_style='danger'\n",
    "        apibutton.icon=\"warning\"\n",
    "        print('Failed!', end = '\\r', flush = True)\n",
    "        \n",
    "    # apibutton.disabled=True\n",
    "\n",
    "    \n",
    "apibutton=wdg.Button(\n",
    "    description='Refresh data',\n",
    "    disabled=False,\n",
    "    button_style='info',\n",
    "    tooltip='Click to download current Public Health England data',\n",
    "    icon='download'\n",
    ")\n",
    "\n",
    "apibutton.on_click(api_button_callback) \n",
    "\n",
    "display(apibutton)\n"
   ]
  },
  {
   "cell_type": "code",
   "execution_count": 11,
   "metadata": {
    "scrolled": true
   },
   "outputs": [
    {
     "data": {
      "application/vnd.jupyter.widget-view+json": {
       "model_id": "a7f1406e699348bc8f96052e286c7789",
       "version_major": 2,
       "version_minor": 0
      },
      "text/plain": [
       "HBox(children=(Output(), VBox(children=(SelectMultiple(description='Nation:', index=(0, 1, 2, 3), options=('En…"
      ]
     },
     "metadata": {},
     "output_type": "display_data"
    }
   ],
   "source": [
    "nation=wdg.SelectMultiple(\n",
    "    options=['England', 'Scotland','Wales','Northern Ireland'],\n",
    "    value=('England', 'Scotland','Wales','Northern Ireland'),\n",
    "    rows=4,\n",
    "    description='Nation:',\n",
    "    disabled=False\n",
    ")\n",
    "\n",
    "scale=wdg.RadioButtons(\n",
    "    options=['linear', 'log'],\n",
    "    description='Scale:',\n",
    "    disabled=False\n",
    ")\n",
    "\n",
    "controls=wdg.VBox([nation, scale])\n",
    "\n",
    "def newCases_graph(gcols, gscale):\n",
    "    if gscale=='linear':\n",
    "        logscale=False\n",
    "    else:\n",
    "        logscale=True\n",
    "    ncols=len(gcols)\n",
    "    if ncols>0:\n",
    "        UKdf[list(gcols)].plot(logy=logscale)\n",
    "    else:\n",
    "        print(\"Click to select data for graph\")\n",
    "        print(\"(CTRL-Click to select more than one category)\")\n",
    "\n",
    "    \n",
    "def refresh_graph():\n",
    "    current=scale.value\n",
    "    if current==scale.options[0]:\n",
    "        other=scale.options[1]\n",
    "    else:\n",
    "        other=scale.options[0]\n",
    "    scale.value=other \n",
    "    scale.value=current\n",
    "  \n",
    "   \n",
    "graph=wdg.interactive_output(newCases_graph, {'gcols': nation, 'gscale': scale})\n",
    "\n",
    "layout = wdg.HBox([graph, controls])\n",
    "\n",
    "display(layout)"
   ]
  },
  {
   "cell_type": "markdown",
   "metadata": {},
   "source": [
    "## About the Data\n",
    "\n",
    "#### England\n",
    "Data include only pillar 1 cases until 2 July, from when pillar 2 cases are also included. A technical issue identified on 2 October 2020 resulted in a delay in reporting of 15,841 cases between 25 September and 2 October. These cases were instead reported on 3 and 4 October creating an artificial spike in the number of cases reported on these dates. Cases by specimen date data are not affected.\n",
    "\n",
    "#### Northern Ireland\n",
    "Data include only pillar 1 cases until 26 June, from when pillar 2 cases are also included.\n",
    "\n",
    "#### Scotland\n",
    "Data include only pillar 1 cases until 15 June, from when pillar 2 cases are also included. Scotland's data include a batch of cases for which specimen date was not available over a 10 day period between 15 and 25 April. These samples were assigned a specimen date in the midpoint within this range (20 April) causing the artificial spike in the chart.\n",
    "\n",
    "#### Wales\n",
    "Data include mainly pillar 1 cases until 14 July, from when pillar 2 cases have been included. This included 842 historic pillar 2 cases that had not previously been reported in the UK total, causing an increase in the UK total.\n",
    "\n",
    "# ------------------------------------------------------------------------------------------------------\n",
    "\n",
    "\n",
    "\n"
   ]
  },
  {
   "cell_type": "markdown",
   "metadata": {},
   "source": [
    "[Covid-19 New Cases Dashboard: Comparison between Four UK Countries](https://github.com/irsyadqomar/covid19dashboard) (C) Irsyad Qomar, 2020 ([ec20025@qmul.ac.uk](mailto:ec20025@qmul.ac.uk)). All rights reserved.\n",
    "*Based on UK Government [data](https://coronavirus.data.gov.uk/) published by [Public Health England](https://www.gov.uk/government/organisations/public-health-england).*"
   ]
  },
  {
   "cell_type": "code",
   "execution_count": 8,
   "metadata": {},
   "outputs": [],
   "source": []
  }
 ],
 "metadata": {
  "kernelspec": {
   "display_name": "Python 3",
   "language": "python",
   "name": "python3"
  },
  "language_info": {
   "codemirror_mode": {
    "name": "ipython",
    "version": 3
   },
   "file_extension": ".py",
   "mimetype": "text/x-python",
   "name": "python",
   "nbconvert_exporter": "python",
   "pygments_lexer": "ipython3",
   "version": "3.8.3"
  }
 },
 "nbformat": 4,
 "nbformat_minor": 4
}
